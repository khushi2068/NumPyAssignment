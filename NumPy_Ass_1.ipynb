{
  "nbformat": 4,
  "nbformat_minor": 0,
  "metadata": {
    "colab": {
      "provenance": [],
      "authorship_tag": "ABX9TyNz+OPQuc4w0D/8WNWqXDkb",
      "include_colab_link": true
    },
    "kernelspec": {
      "name": "python3",
      "display_name": "Python 3"
    },
    "language_info": {
      "name": "python"
    }
  },
  "cells": [
    {
      "cell_type": "markdown",
      "metadata": {
        "id": "view-in-github",
        "colab_type": "text"
      },
      "source": [
        "<a href=\"https://colab.research.google.com/github/khushi2068/NumPyAssignment/blob/main/NumPy_Ass_1.ipynb\" target=\"_parent\"><img src=\"https://colab.research.google.com/assets/colab-badge.svg\" alt=\"Open In Colab\"/></a>"
      ]
    },
    {
      "cell_type": "code",
      "execution_count": 1,
      "metadata": {
        "colab": {
          "base_uri": "https://localhost:8080/"
        },
        "id": "U19hs77TDdYS",
        "outputId": "721c2cdd-ccc8-463c-fe67-622e60eac36b"
      },
      "outputs": [
        {
          "output_type": "stream",
          "name": "stdout",
          "text": [
            "Requirement already satisfied: numpy in /usr/local/lib/python3.10/dist-packages (1.23.5)\n"
          ]
        }
      ],
      "source": [
        "!pip install numpy\n"
      ]
    },
    {
      "cell_type": "code",
      "source": [
        "import numpy as np"
      ],
      "metadata": {
        "id": "_7IadpNsFQWL"
      },
      "execution_count": 28,
      "outputs": []
    },
    {
      "cell_type": "markdown",
      "source": [
        "#### a)Reverse the NumPy array: arr = np.array([1, 2, 3, 6, 4, 5])"
      ],
      "metadata": {
        "id": "TxJA3nzVNgDE"
      }
    },
    {
      "cell_type": "code",
      "source": [
        "\n",
        "\n",
        "arr = np.array([1, 2, 3, 6, 4, 5])\n",
        "reversed_arr = np.flip(arr)\n",
        "\n",
        "print(reversed_arr)\n"
      ],
      "metadata": {
        "colab": {
          "base_uri": "https://localhost:8080/"
        },
        "id": "vpROX-teF6o8",
        "outputId": "60437627-e711-457e-eacf-535cb9a9ebb3"
      },
      "execution_count": 29,
      "outputs": [
        {
          "output_type": "stream",
          "name": "stdout",
          "text": [
            "[5 4 6 3 2 1]\n"
          ]
        }
      ]
    },
    {
      "cell_type": "markdown",
      "source": [
        "b)Flatten the NumPy arr: array1 = np.array([[1, 2, 3], [2, 4, 5], [1, 2, 3]]) using any two\n",
        "NumPy in-built methods"
      ],
      "metadata": {
        "id": "nsiL9K8YNiwN"
      }
    },
    {
      "cell_type": "code",
      "source": [
        " array1 = np.array([[1, 2, 3], [2, 4, 5], [1, 2, 3]])\n",
        " print(array1)\n",
        "flatten_arr=np.ravel(array1)\n",
        "print(flatten_arr)"
      ],
      "metadata": {
        "colab": {
          "base_uri": "https://localhost:8080/"
        },
        "id": "HwwU7DBhG4vV",
        "outputId": "fd1cae33-4ba9-4fc0-b69a-818fa5c138b0"
      },
      "execution_count": 37,
      "outputs": [
        {
          "output_type": "stream",
          "name": "stdout",
          "text": [
            "[[1 2 3]\n",
            " [2 4 5]\n",
            " [1 2 3]]\n",
            "[1 2 3 2 4 5 1 2 3]\n"
          ]
        }
      ]
    },
    {
      "cell_type": "markdown",
      "source": [
        "c)Compare the following numpy arrays:\n",
        "arr1 = np.array([[1, 2], [3, 4]])\n",
        "arr2 = np.array([[1, 2], [3, 4]])"
      ],
      "metadata": {
        "id": "KpVtbSqINk9b"
      }
    },
    {
      "cell_type": "code",
      "source": [
        "arr1 = np.array([[1, 2], [3, 4]])\n",
        "arr2 = np.array([[1, 2], [3, 4]])\n",
        "is_equal=np.array_equal(arr1, arr2)\n",
        "print(is_equal)"
      ],
      "metadata": {
        "colab": {
          "base_uri": "https://localhost:8080/"
        },
        "id": "VASaiJ5YHeB8",
        "outputId": "99bd98cf-841e-4857-a340-7c99eb2dc0c7"
      },
      "execution_count": 10,
      "outputs": [
        {
          "output_type": "stream",
          "name": "stdout",
          "text": [
            "True\n"
          ]
        }
      ]
    },
    {
      "cell_type": "markdown",
      "source": [
        "d)Find the most frequent value and their indice(s) in the following arrays:\n",
        "i. x = np.array([1,2,3,4,5,1,2,1,1,1])\n",
        "ii. y = np.array([1, 1, 1, 2, 3, 4, 2, 4, 3, 3, ])"
      ],
      "metadata": {
        "id": "yppExf7FS1ds"
      }
    },
    {
      "cell_type": "code",
      "source": [
        "x = np.array([1,2,3,4,5,1,2,1,1,1])\n",
        "y = np.array([1, 1, 1, 2, 3, 4, 2, 4, 3, 3, ])\n",
        "a=np.bincount(x).argmax()\n",
        "b=np.bincount(y).argmax()\n",
        "print(a)\n",
        "print('indexes')\n",
        "for i in range(len(x)):\n",
        "  if x[i]==a:\n",
        "            print(i,end=' ');\n",
        "\n",
        "print()\n",
        "\n",
        "print(b)\n",
        "print('indexes')\n",
        "for i in range(len(y)):\n",
        "  if y[i]==b:\n",
        "            print(i,end=' ');\n",
        "\n"
      ],
      "metadata": {
        "colab": {
          "base_uri": "https://localhost:8080/"
        },
        "id": "ATy5QG1sIp4T",
        "outputId": "7af89e30-3125-4983-a1e0-89ab9f090e16"
      },
      "execution_count": 25,
      "outputs": [
        {
          "output_type": "stream",
          "name": "stdout",
          "text": [
            "1\n",
            "indexes\n",
            "0 5 7 8 9 \n",
            "1\n",
            "indexes\n",
            "0 1 2 "
          ]
        }
      ]
    },
    {
      "cell_type": "markdown",
      "source": [
        "e)For the array gfg = np.matrix('[4, 1, 9; 12, 3, 1; 4, 5, 6]'), find\n",
        "i. Sum of all elements\n",
        "ii. Sum of all elements row-wise\n",
        "iii. Sum of all elements column-wise"
      ],
      "metadata": {
        "id": "4W-LBT5tNpjF"
      }
    },
    {
      "cell_type": "code",
      "source": [
        "import numpy as np\n",
        "\n",
        "gfg = np.matrix('[4, 1, 9; 12, 3, 1; 4, 5, 6]')\n",
        "\n",
        "#  Sum of all elements\n",
        "total_sum = np.sum(gfg)\n",
        "\n",
        "# Sum of all elements row-wise\n",
        "row_sums = np.sum(gfg, axis=1)\n",
        "\n",
        "# Sum of all elements column-wise\n",
        "column_sums = np.sum(gfg, axis=0)\n",
        "\n",
        "print(\"Sum of all elements:\", total_sum)\n",
        "print(\"Sum of all elements row-wise:\", row_sums)\n",
        "print(\"Sum of all elements column-wise:\", column_sums)\n"
      ],
      "metadata": {
        "colab": {
          "base_uri": "https://localhost:8080/"
        },
        "id": "Jxa-1aIqLv9y",
        "outputId": "e2b96e1b-a08b-4031-da0a-6b9cebea9dc3"
      },
      "execution_count": 27,
      "outputs": [
        {
          "output_type": "stream",
          "name": "stdout",
          "text": [
            "Sum of all elements: 45 Sum of all elements row-wise: [[14]\n",
            " [16]\n",
            " [15]]\n",
            "Sum of all elements column-wise: [[20  9 16]]\n"
          ]
        }
      ]
    },
    {
      "cell_type": "markdown",
      "source": [
        "f)) For the matrix: n_array = np.array([[55, 25, 15],[30, 44, 2],[11, 45, 77]]), find\n",
        "i. Sum of diagonal elements\n",
        "ii. Eigen values of matrix\n",
        "iii. Eigen vectors of matrix\n",
        "iv. Inverse of matrix\n",
        "v. Determinant of matrix"
      ],
      "metadata": {
        "id": "USItCoBDNrg9"
      }
    },
    {
      "cell_type": "code",
      "source": [
        "n_array = np.array([[55, 25, 15], [30, 44, 2], [11, 45, 77]])\n",
        "print(\"Sum of diagonal elements:\", np.trace(n_array))\n",
        "# print(\"Eigenvalues of matrix:\", np.linalg.eigvals(n_array))\n",
        "\n",
        "eigenvalues, eigenvectors = np.linalg.eig(n_array)\n",
        "print(\"Eigenvalues of matrix:\\n\", eigenvalues)\n",
        "print(\"Eigenvectors of matrix:\\n\", eigenvectors)\n",
        "\n",
        "print(\"Inverse of matrix:\\n\", np.linalg.inv(n_array))\n",
        "print(\"Determinant of matrix:\\n\", np.linalg.det(n_array))"
      ],
      "metadata": {
        "colab": {
          "base_uri": "https://localhost:8080/"
        },
        "id": "zsrvA3bhM8Il",
        "outputId": "4ae26e25-a8be-4595-c3ab-49a6ab651f5a"
      },
      "execution_count": 36,
      "outputs": [
        {
          "output_type": "stream",
          "name": "stdout",
          "text": [
            "Sum of diagonal elements: 176\n",
            "Eigenvalues of matrix:\n",
            " [98.16835147 28.097044   49.73460452]\n",
            "Eigenvectors of matrix:\n",
            " [[ 0.4574917   0.34637121 -0.15017693]\n",
            " [ 0.28447814 -0.72784061 -0.4852124 ]\n",
            " [ 0.84248058  0.59184038  0.8614034 ]]\n",
            "Inverse of matrix:\n",
            " [[ 0.02404141 -0.00911212 -0.00444671]\n",
            " [-0.01667882  0.02966905  0.0024785 ]\n",
            " [ 0.00631287 -0.01603732  0.01217379]]\n",
            "Determinant of matrix:\n",
            " 137180.0000000001\n"
          ]
        }
      ]
    },
    {
      "cell_type": "markdown",
      "source": [
        "g) Multiply the following matrices and also find covariance between matrices using NumPy:\n",
        "i. p = [[1, 2], [2, 3]]\n",
        "q = [[4, 5], [6, 7]]\n",
        "ii. p = [[1, 2], [2, 3], [4, 5]]\n",
        "q = [[4, 5, 1], [6, 7, 2]]\n"
      ],
      "metadata": {
        "id": "YECc7X6XTOFd"
      }
    },
    {
      "cell_type": "code",
      "source": [
        " p = [[1, 2], [2, 3]]\n",
        " q = [[4, 5], [6, 7]]\n",
        " m1=np.dot(p,q)\n",
        " print(m1)\n",
        " print(np.cov(p,q))\n",
        " print()\n",
        " r =np.array( [[1, 2], [2, 3], [4, 5]] )\n",
        " s = np.array([[4, 5, 1], [6, 7, 2]])\n",
        " m2=np.dot(r,s)\n",
        " print(m2)\n",
        " p_vector=r.flatten()\n",
        " q_vector=s.flatten()\n",
        " print(np.cov(p_vector,q_vector))"
      ],
      "metadata": {
        "colab": {
          "base_uri": "https://localhost:8080/"
        },
        "id": "W-ctd8MYPj9_",
        "outputId": "cb34753c-805c-439a-b248-b8c3e86dffed"
      },
      "execution_count": 51,
      "outputs": [
        {
          "output_type": "stream",
          "name": "stdout",
          "text": [
            "[[16 19]\n",
            " [26 31]]\n",
            "[[0.5 0.5 0.5 0.5]\n",
            " [0.5 0.5 0.5 0.5]\n",
            " [0.5 0.5 0.5 0.5]\n",
            " [0.5 0.5 0.5 0.5]]\n",
            "\n",
            "[[16 19  5]\n",
            " [26 31  8]\n",
            " [46 55 14]]\n",
            "[[2.16666667 0.23333333]\n",
            " [0.23333333 5.36666667]]\n"
          ]
        }
      ]
    },
    {
      "cell_type": "markdown",
      "source": [
        "h)For the matrices: x = np.array([[2, 3, 4], [3, 2, 9]]); y = np.array([[1, 5, 0], [5, 10, 3]]),\n",
        "find inner, outer and cartesian product?"
      ],
      "metadata": {
        "id": "jZSVjOkTTTiQ"
      }
    },
    {
      "cell_type": "code",
      "source": [
        "x = np.array([[2, 3, 4], [3, 2, 9]])\n",
        "y = np.array([[1, 5, 0], [5, 10, 3]])\n",
        "print(np.inner(x,y))\n",
        "print(np.outer(x,y))\n",
        "print(np.cross(x,y))"
      ],
      "metadata": {
        "colab": {
          "base_uri": "https://localhost:8080/"
        },
        "id": "l6Ukfw-TTZRl",
        "outputId": "d50fcd4c-6ad6-4622-f982-c0a4b02d3729"
      },
      "execution_count": 54,
      "outputs": [
        {
          "output_type": "stream",
          "name": "stdout",
          "text": [
            "[[17 52]\n",
            " [13 62]]\n",
            "[[ 2 10  0 10 20  6]\n",
            " [ 3 15  0 15 30  9]\n",
            " [ 4 20  0 20 40 12]\n",
            " [ 3 15  0 15 30  9]\n",
            " [ 2 10  0 10 20  6]\n",
            " [ 9 45  0 45 90 27]]\n",
            "[[-20   4   7]\n",
            " [-84  36  20]]\n"
          ]
        }
      ]
    },
    {
      "cell_type": "markdown",
      "source": [
        "Q2: Based on NumPy Mathematics and Statistics\n",
        "(a) For the array: array = np.array([[1, -2, 3],[-4, 5, -6]])\n",
        "i. Find element-wise absolute value\n",
        "ii. Find the 25th, 50th, and 75th percentile of flattened array, for each column, for each\n",
        "row.\n",
        "iii. Mean, Median and Standard Deviation of flattened array, of each column, and\n",
        "each row\n"
      ],
      "metadata": {
        "id": "mPt5Xld5beUZ"
      }
    },
    {
      "cell_type": "code",
      "source": [
        "\n",
        "\n",
        "array = np.array([[1, -2, 3], [-4, 5, -6]])\n",
        "\n",
        "# i. Element-wise absolute value\n",
        "absolute_value = np.abs(array)\n",
        "\n",
        "# ii. Percentiles for each column and each row\n",
        "percentiles_column = np.percentile(array, q=[25, 50, 75], axis=0)\n",
        "percentiles_row = np.percentile(array, q=[25, 50, 75], axis=1)\n",
        "\n",
        "# iii. Mean, Median, and Standard Deviation for each column, each row, and flattened array\n",
        "mean_column = np.mean(array, axis=0)\n",
        "mean_row = np.mean(array, axis=1)\n",
        "mean_flattened = np.mean(array.flatten())\n",
        "median_column = np.median(array, axis=0)\n",
        "median_row = np.median(array, axis=1)\n",
        "median_flattened = np.median(array.flatten())\n",
        "std_column = np.std(array, axis=0)\n",
        "std_row = np.std(array, axis=1)\n",
        "std_flattened = np.std(array.flatten())\n",
        "\n",
        "print(\"Element-wise absolute value:\")\n",
        "print(absolute_value)\n",
        "\n",
        "print(\"25th, 50th, and 75th percentile for each column:\")\n",
        "print(percentiles_column)\n",
        "print(\"25th, 50th, and 75th percentile for each row:\")\n",
        "print(percentiles_row)\n",
        "\n",
        "print(\"Mean for each column:\")\n",
        "print(mean_column)\n",
        "print(\"Mean for each row:\")\n",
        "print(mean_row)\n",
        "print(\"Mean of flattened array:\")\n",
        "print(mean_flattened)\n",
        "\n",
        "print(\"Median for each column:\")\n",
        "print(median_column)\n",
        "print(\"Median for each row:\")\n",
        "print(median_row)\n",
        "print(\"Median of flattened array:\")\n",
        "print(median_flattened)\n",
        "\n",
        "print(\"Standard Deviation for each column:\")\n",
        "print(std_column)\n",
        "print(\"Standard Deviation for each row:\")\n",
        "print(std_row)\n",
        "print(\"Standard Deviation of flattened array:\")\n",
        "print(std_flattened)\n"
      ],
      "metadata": {
        "colab": {
          "base_uri": "https://localhost:8080/"
        },
        "id": "UxP-Fz2Bbd6H",
        "outputId": "f02a8d30-b161-4b8f-98e5-d388252a4b6e"
      },
      "execution_count": 58,
      "outputs": [
        {
          "output_type": "stream",
          "name": "stdout",
          "text": [
            "Element-wise absolute value:\n",
            "[[1 2 3]\n",
            " [4 5 6]]\n",
            "25th, 50th, and 75th percentile for each column:\n",
            "[[-2.75 -0.25 -3.75]\n",
            " [-1.5   1.5  -1.5 ]\n",
            " [-0.25  3.25  0.75]]\n",
            "25th, 50th, and 75th percentile for each row:\n",
            "[[-0.5 -5. ]\n",
            " [ 1.  -4. ]\n",
            " [ 2.   0.5]]\n",
            "Mean for each column:\n",
            "[-1.5  1.5 -1.5]\n",
            "Mean for each row:\n",
            "[ 0.66666667 -1.66666667]\n",
            "Mean of flattened array:\n",
            "-0.5\n",
            "Median for each column:\n",
            "[-1.5  1.5 -1.5]\n",
            "Median for each row:\n",
            "[ 1. -4.]\n",
            "Median of flattened array:\n",
            "-0.5\n",
            "Standard Deviation for each column:\n",
            "[2.5 3.5 4.5]\n",
            "Standard Deviation for each row:\n",
            "[2.05480467 4.78423336]\n",
            "Standard Deviation of flattened array:\n",
            "3.8622100754188224\n"
          ]
        }
      ]
    },
    {
      "cell_type": "markdown",
      "source": [
        "For the array: a = np.array([-1.8, -1.6, -0.5, 0.5,1.6, 1.8, 3.0]). Find floor, ceiling\n",
        "and truncated value, rounded values"
      ],
      "metadata": {
        "id": "jtR6p1oLbmvC"
      }
    },
    {
      "cell_type": "code",
      "source": [
        " a = np.array([-1.8, -1.6, -0.5, 0.5,1.6, 1.8, 3.0])\n",
        " print(np.floor(a))\n",
        " print(np.ceil(a))\n",
        " print(np.trunc(a))\n",
        " print(np.round(a))"
      ],
      "metadata": {
        "colab": {
          "base_uri": "https://localhost:8080/"
        },
        "id": "D-BNPNSVdcc1",
        "outputId": "804a0269-5829-4050-a1d9-c358d74cf36a"
      },
      "execution_count": 60,
      "outputs": [
        {
          "output_type": "stream",
          "name": "stdout",
          "text": [
            "[-2. -2. -1.  0.  1.  1.  3.]\n",
            "[-1. -1. -0.  1.  2.  2.  3.]\n",
            "[-1. -1. -0.  0.  1.  1.  3.]\n",
            "[-2. -2. -0.  0.  2.  2.  3.]\n"
          ]
        }
      ]
    },
    {
      "cell_type": "markdown",
      "source": [
        "Q3: Based on Searching and Sorting\n",
        "(a) For the array: array = np.array([10, 52, 62, 16, 16, 54, 453]), find\n",
        "i. Sorted array\n",
        "ii. Indices of sorted array\n",
        "iii. 4 smallest elements\n",
        "iv. 5 largest elements\n",
        "\n",
        "\n",
        "---\n",
        "\n"
      ],
      "metadata": {
        "id": "ScLfIycDeBcB"
      }
    },
    {
      "cell_type": "code",
      "source": [
        "array = np.array([10, 52, 62, 16, 16, 54, 453])\n",
        "sorted_array = np.sort(array)\n",
        "indices_sorted = np.argsort(array)\n",
        "smallest_elements = sorted_array[:4]\n",
        "largest_elements = sorted_array[-5:]\n",
        "\n",
        "print(\"Sorted array:\")\n",
        "print(sorted_array)\n",
        "\n",
        "print(\"Indices of sorted array:\")\n",
        "print(indices_sorted)\n",
        "\n",
        "print(\"4 smallest elements:\")\n",
        "print(smallest_elements)\n",
        "\n",
        "print(\"5 largest elements:\")\n",
        "print(largest_elements)\n"
      ],
      "metadata": {
        "colab": {
          "base_uri": "https://localhost:8080/"
        },
        "id": "2zyhvb4FeAdd",
        "outputId": "3fe0e139-c2a4-4204-da81-f778f0459f5b"
      },
      "execution_count": 61,
      "outputs": [
        {
          "output_type": "stream",
          "name": "stdout",
          "text": [
            "Sorted array:\n",
            "[ 10  16  16  52  54  62 453]\n",
            "Indices of sorted array:\n",
            "[0 3 4 1 5 2 6]\n",
            "4 smallest elements:\n",
            "[10 16 16 52]\n",
            "5 largest elements:\n",
            "[ 16  52  54  62 453]\n"
          ]
        }
      ]
    },
    {
      "cell_type": "markdown",
      "source": [
        "(b) For the array: array = np.array([1.0, 1.2, 2.2, 2.0, 3.0, 2.0]), find\n",
        "i. Integer elements only\n",
        "ii. Float elements only\n"
      ],
      "metadata": {
        "id": "YIBzw3DmejU1"
      }
    },
    {
      "cell_type": "code",
      "source": [
        "import numpy as np\n",
        "\n",
        "array = np.array([1.0, 1.2, 2.2, 2.0, 3.0, 2.0])\n",
        "integer_elements = array[array.astype(int) == array]\n",
        "float_elements = array[array.astype(int) != array]\n",
        "\n",
        "print(\"Integer elements only:\")\n",
        "print(integer_elements)\n",
        "\n",
        "print(\"Float elements only:\")\n",
        "print(float_elements)\n"
      ],
      "metadata": {
        "colab": {
          "base_uri": "https://localhost:8080/"
        },
        "id": "nEwbniHYelG7",
        "outputId": "6389fd3a-5f5d-4891-e035-df61c723948d"
      },
      "execution_count": 62,
      "outputs": [
        {
          "output_type": "stream",
          "name": "stdout",
          "text": [
            "Integer elements only:\n",
            "[1. 2. 3. 2.]\n",
            "Float elements only:\n",
            "[1.2 2.2]\n"
          ]
        }
      ]
    },
    {
      "cell_type": "code",
      "source": [
        "from google.colab import drive\n",
        "drive.mount('/content/drive')"
      ],
      "metadata": {
        "id": "rKPEiP7km2GZ"
      },
      "execution_count": null,
      "outputs": []
    },
    {
      "cell_type": "markdown",
      "source": [
        "Q4:\n",
        "(a) Write a function named img_to_array(path) that reads an image from a specified path and\n",
        "save it as text file on local machine? (Note: use separate cases for RGB and Grey Scale\n",
        "images)\n",
        "(b) Load the saved file into jupyter notebook?\n",
        "\n",
        "---\n",
        "\n"
      ],
      "metadata": {
        "id": "BWEG6SMRf_wS"
      }
    },
    {
      "cell_type": "code",
      "source": [
        "from PIL import Image\n",
        "img=Image.open(\"/1746841.png\")\n",
        "narr=np.array(img)\n",
        "np.savetxt('/content/sample_data/textfile.txt', array, fmt='%d')"
      ],
      "metadata": {
        "id": "etiHyW5Hf6Ox"
      },
      "execution_count": 70,
      "outputs": []
    },
    {
      "cell_type": "code",
      "source": [
        "import cv2\n",
        "import numpy as np\n",
        "\n",
        "def img_to_array(path):\n",
        "    image = cv2.imread(path)\n",
        "    np.savetxt('/content/sample_data/k.txt', image.flatten(), fmt='%d')\n",
        "\n",
        "# Call the function with the image path\n",
        "img_to_array('/1746841.png')\n"
      ],
      "metadata": {
        "id": "0NYBYhaykaXA"
      },
      "execution_count": 73,
      "outputs": []
    },
    {
      "cell_type": "code",
      "source": [
        "# Define the file path\n",
        "file_path = '/content/sample_data/textfile.txt'\n",
        "\n",
        "# Open the file in read mode and read its content\n",
        "with open(file_path, 'r') as file:\n",
        "    content = file.read()\n",
        "\n",
        "# Print the content of the file\n",
        "print(content)\n"
      ],
      "metadata": {
        "id": "kRSWQEsqrg1B"
      },
      "execution_count": null,
      "outputs": []
    }
  ]
}